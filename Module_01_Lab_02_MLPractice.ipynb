{
  "nbformat": 4,
  "nbformat_minor": 0,
  "metadata": {
    "colab": {
      "provenance": [],
      "include_colab_link": true
    },
    "kernelspec": {
      "name": "python3",
      "display_name": "Python 3"
    },
    "language_info": {
      "name": "python"
    }
  },
  "cells": [
    {
      "cell_type": "markdown",
      "metadata": {
        "id": "view-in-github",
        "colab_type": "text"
      },
      "source": [
        "<a href=\"https://colab.research.google.com/github/21JN1A4218/FMML-MODULUS---IIIT-HYBERABAD/blob/main/Module_01_Lab_02_MLPractice.ipynb\" target=\"_parent\"><img src=\"https://colab.research.google.com/assets/colab-badge.svg\" alt=\"Open In Colab\"/></a>"
      ]
    },
    {
      "cell_type": "markdown",
      "metadata": {
        "id": "3Eu9VZbF01eq"
      },
      "source": [
        "# Machine learning terms and metrics\n",
        "\n",
        "FMML Module 1, Lab 2<br>\n",
        "\n",
        "\n",
        " In this lab, we will show a part of the ML pipeline by extracting features, training and testing"
      ]
    },
    {
      "cell_type": "code",
      "metadata": {
        "id": "8qBvyEem0vLi"
      },
      "source": [
        "import matplotlib.pyplot as plt\n",
        "import numpy as np\n",
        "from sklearn import datasets\n",
        "# set randomseed\n",
        "rng = np.random.default_rng(seed=42)"
      ],
      "execution_count": 1,
      "outputs": []
    },
    {
      "cell_type": "markdown",
      "metadata": {
        "id": "u3t59g5s1HfC"
      },
      "source": [
        "In this lab, we will use the California Housing dataset. There are 20640 samples, each with 8 attributes like income of the block, age of the houses per district etc. The task is to predict the cost of the houses per district.\n",
        "\n",
        "Let us download and examine the dataset."
      ]
    },
    {
      "cell_type": "code",
      "metadata": {
        "id": "8LpqjN991GGJ",
        "colab": {
          "base_uri": "https://localhost:8080/"
        },
        "outputId": "3dde6f25-8198-4ce2-de78-ddffd2b9e435"
      },
      "source": [
        " dataset =  datasets.fetch_california_housing()\n",
        " # print(dataset.DESCR)  # uncomment this if you want to know more about this dataset\n",
        " # print(dataset.keys())  # if you want to know what else is there in this dataset\n",
        " dataset.target = dataset.target.astype(np.int) # so that we can classify\n",
        " print(dataset.data.shape)\n",
        " print(dataset.target.shape)"
      ],
      "execution_count": 2,
      "outputs": [
        {
          "output_type": "stream",
          "name": "stdout",
          "text": [
            "(20640, 8)\n",
            "(20640,)\n"
          ]
        },
        {
          "output_type": "stream",
          "name": "stderr",
          "text": [
            "<ipython-input-2-60ae2e9a125e>:4: DeprecationWarning: `np.int` is a deprecated alias for the builtin `int`. To silence this warning, use `int` by itself. Doing this will not modify any behavior and is safe. When replacing `np.int`, you may wish to use e.g. `np.int64` or `np.int32` to specify the precision. If you wish to review your current use, check the release note link for additional information.\n",
            "Deprecated in NumPy 1.20; for more details and guidance: https://numpy.org/devdocs/release/1.20.0-notes.html#deprecations\n",
            "  dataset.target = dataset.target.astype(np.int) # so that we can classify\n"
          ]
        }
      ]
    },
    {
      "cell_type": "markdown",
      "metadata": {
        "id": "iNx4174W5xRg"
      },
      "source": [
        "Here is a function for calculating the 1-nearest neighbours"
      ]
    },
    {
      "cell_type": "code",
      "metadata": {
        "id": "07zpydQj1hIQ"
      },
      "source": [
        "def NN1(traindata, trainlabel, query):\n",
        "  diff  = traindata - query  # find the difference between features. Numpy automatically takes care of the size here\n",
        "  sq = diff*diff # square the differences\n",
        "  dist = sq.sum(1) # add up the squares\n",
        "  label = trainlabel[np.argmin(dist)] # our predicted label is the label of the training data which has the least distance from the query\n",
        "  return label\n",
        "\n",
        "def NN(traindata, trainlabel, testdata):\n",
        "  # we will run nearest neighbour for each sample in the test data\n",
        "  # and collect the predicted classes in an array using list comprehension\n",
        "  predlabel = np.array([NN1(traindata, trainlabel, i) for i in testdata])\n",
        "  return predlabel"
      ],
      "execution_count": 3,
      "outputs": []
    },
    {
      "cell_type": "markdown",
      "metadata": {
        "id": "03JktkfIGaje"
      },
      "source": [
        "We will also define a 'random classifier', which randomly allots labels to each sample"
      ]
    },
    {
      "cell_type": "code",
      "metadata": {
        "id": "fogWAtjyGhAH"
      },
      "source": [
        "def RandomClassifier(traindata, trainlabel, testdata):\n",
        "  # in reality, we don't need these arguments\n",
        "\n",
        "  classes = np.unique(trainlabel)\n",
        "  rints = rng.integers(low=0, high=len(classes), size=len(testdata))\n",
        "  predlabel = classes[rints]\n",
        "  return predlabel"
      ],
      "execution_count": 4,
      "outputs": []
    },
    {
      "cell_type": "markdown",
      "metadata": {
        "id": "1Hjf1KHs7fU5"
      },
      "source": [
        "Let us define a metric 'Accuracy' to see how good our learning algorithm is. Accuracy is the ratio of the number of correctly classified samples to the total number of samples. The higher the accuracy, the better the algorithm."
      ]
    },
    {
      "cell_type": "code",
      "metadata": {
        "id": "ouuCqWU07bz-"
      },
      "source": [
        "def Accuracy(gtlabel, predlabel):\n",
        "  assert len(gtlabel)==len(predlabel), \"Length of the groundtruth labels and predicted labels should be the same\"\n",
        "  correct = (gtlabel==predlabel).sum() # count the number of times the groundtruth label is equal to the predicted label.\n",
        "  return correct/len(gtlabel)"
      ],
      "execution_count": 5,
      "outputs": []
    },
    {
      "cell_type": "markdown",
      "metadata": {
        "id": "4vJFwBFa9Klw"
      },
      "source": [
        "Let us make a function to split the dataset with the desired probability."
      ]
    },
    {
      "cell_type": "code",
      "metadata": {
        "id": "Ko0VzpSM2Tdi"
      },
      "source": [
        "def split(data, label, percent):\n",
        "  # generate a random number for each sample\n",
        "  rnd = rng.random(len(label))\n",
        "  split1 = rnd<percent\n",
        "  split2 = rnd>=percent\n",
        "  split1data = data[split1,:]\n",
        "  split1label = label[split1]\n",
        "  split2data = data[split2,:]\n",
        "  split2label = label[split2]\n",
        "  return split1data, split1label, split2data, split2label"
      ],
      "execution_count": 6,
      "outputs": []
    },
    {
      "cell_type": "markdown",
      "metadata": {
        "id": "AcK3LEAJ_LGC"
      },
      "source": [
        "We will reserve 20% of our dataset as the test set. We will not change this portion throughout our experiments"
      ]
    },
    {
      "cell_type": "code",
      "metadata": {
        "id": "bBZkHBLJ1iU-",
        "colab": {
          "base_uri": "https://localhost:8080/"
        },
        "outputId": "6bbfc5fa-2709-4f7c-cd3e-40048d575b3a"
      },
      "source": [
        "testdata, testlabel, alltraindata, alltrainlabel = split(dataset.data, dataset.target, 20/100)\n",
        "print('Number of test samples = ', len(testlabel))\n",
        "print('Number of other samples = ', len(alltrainlabel))\n",
        "print('Percent of test data = ', len(testlabel)*100/len(dataset.target),'%')"
      ],
      "execution_count": 7,
      "outputs": [
        {
          "output_type": "stream",
          "name": "stdout",
          "text": [
            "Number of test samples =  4144\n",
            "Number of other samples =  16496\n",
            "Percent of test data =  20.07751937984496 %\n"
          ]
        }
      ]
    },
    {
      "cell_type": "markdown",
      "metadata": {
        "id": "a6Ss0Z6IAGNV"
      },
      "source": [
        "## Experiments with splits\n",
        "\n",
        "Let us reserve some of our train data as a validation set"
      ]
    },
    {
      "cell_type": "code",
      "metadata": {
        "id": "WFew2iry_7W7"
      },
      "source": [
        "traindata, trainlabel, valdata, vallabel = split(alltraindata, alltrainlabel, 75/100)"
      ],
      "execution_count": 8,
      "outputs": []
    },
    {
      "cell_type": "markdown",
      "metadata": {
        "id": "60hiu4clFN1i"
      },
      "source": [
        "What is the accuracy of our classifiers on the train dataset?"
      ]
    },
    {
      "cell_type": "code",
      "metadata": {
        "id": "DBlZDTHUFTZx",
        "colab": {
          "base_uri": "https://localhost:8080/"
        },
        "outputId": "c77f6ff9-48ef-478c-81e2-9838e978d7f5"
      },
      "source": [
        "trainpred = NN(traindata, trainlabel, traindata)\n",
        "trainAccuracy = Accuracy(trainlabel, trainpred)\n",
        "print(\"Train accuracy using nearest neighbour is \", trainAccuracy)\n",
        "\n",
        "trainpred = RandomClassifier(traindata, trainlabel, traindata)\n",
        "trainAccuracy = Accuracy(trainlabel, trainpred)\n",
        "print(\"Train accuracy using random classifier is \", trainAccuracy)"
      ],
      "execution_count": 9,
      "outputs": [
        {
          "output_type": "stream",
          "name": "stdout",
          "text": [
            "Train accuracy using nearest neighbour is  1.0\n",
            "Train accuracy using random classifier is  0.164375808538163\n"
          ]
        }
      ]
    },
    {
      "cell_type": "markdown",
      "metadata": {
        "id": "7h08-9gJDtSy"
      },
      "source": [
        "For nearest neighbour, the train accuracy is always 1. The accuracy of the random classifier is close to 1/(number of classes) which is 0.1666 in our case.\n",
        "\n",
        "Let us predict the labels for our validation set and get the accuracy"
      ]
    },
    {
      "cell_type": "code",
      "metadata": {
        "id": "4h7bXoW_2H3v",
        "colab": {
          "base_uri": "https://localhost:8080/"
        },
        "outputId": "92e190e9-e91f-4ba4-8fac-cc2a0c483f8f"
      },
      "source": [
        "valpred = NN(traindata, trainlabel, valdata)\n",
        "valAccuracy = Accuracy(vallabel, valpred)\n",
        "print(\"Validation accuracy using nearest neighbour is \", valAccuracy)\n",
        "\n",
        "valpred = RandomClassifier(traindata, trainlabel, valdata)\n",
        "valAccuracy = Accuracy(vallabel, valpred)\n",
        "print(\"Validation accuracy using random classifier is \", valAccuracy)"
      ],
      "execution_count": 10,
      "outputs": [
        {
          "output_type": "stream",
          "name": "stdout",
          "text": [
            "Validation accuracy using nearest neighbour is  0.34108527131782945\n",
            "Validation accuracy using random classifier is  0.1688468992248062\n"
          ]
        }
      ]
    },
    {
      "cell_type": "markdown",
      "metadata": {
        "id": "py9bLguFEjfg"
      },
      "source": [
        "Validation accuracy of nearest neighbour is considerably less than its train accuracy while the validation accuracy of random classifier is the same. However, the validation accuracy of nearest neighbour is twice that of the random classifier.\n",
        "\n",
        "Now let us try another random split and check the validation accuracy"
      ]
    },
    {
      "cell_type": "code",
      "metadata": {
        "id": "ujm3cyYzEntE",
        "colab": {
          "base_uri": "https://localhost:8080/"
        },
        "outputId": "0abcdc2d-570e-408e-912f-d58a2626f66b"
      },
      "source": [
        "traindata, trainlabel, valdata, vallabel = split(alltraindata, alltrainlabel, 75/100)\n",
        "valpred = NN(traindata, trainlabel, valdata)\n",
        "valAccuracy = Accuracy(vallabel, valpred)\n",
        "print(\"Validation accuracy of nearest neighbour is \", valAccuracy)"
      ],
      "execution_count": 11,
      "outputs": [
        {
          "output_type": "stream",
          "name": "stdout",
          "text": [
            "Validation accuracy of nearest neighbour is  0.34048257372654156\n"
          ]
        }
      ]
    },
    {
      "cell_type": "markdown",
      "metadata": {
        "id": "oSOx7U83EKie"
      },
      "source": [
        "You can run the above cell multiple times to try with different random splits.\n",
        "We notice that the accuracy is different for each run, but close together.\n",
        "\n",
        "Now let us compare it with the accuracy we get on the test dataset."
      ]
    },
    {
      "cell_type": "code",
      "metadata": {
        "id": "PNEZ5ToYBEDW",
        "colab": {
          "base_uri": "https://localhost:8080/"
        },
        "outputId": "f6aaed6b-b1fa-47f2-9dbd-9b3b149e551e"
      },
      "source": [
        "testpred = NN(alltraindata, alltrainlabel, testdata)\n",
        "testAccuracy = Accuracy(testlabel, testpred)\n",
        "print('Test accuracy is ', testAccuracy)"
      ],
      "execution_count": 12,
      "outputs": [
        {
          "output_type": "stream",
          "name": "stdout",
          "text": [
            "Test accuracy is  0.34917953667953666\n"
          ]
        }
      ]
    },
    {
      "cell_type": "markdown",
      "metadata": {
        "id": "w3dGD531K3gH"
      },
      "source": [
        "### Try it out for yourself and answer:\n",
        "1. How is the accuracy of the validation set affected if we increase the percentage of validation set? What happens when we reduce it?\n",
        "2. How does the size of the train and validation set affect how well we can predict the accuracy on the test set using the validation set?\n",
        "3. What do you think is a good percentage to reserve for the validation set so that thest two factors are balanced?\n",
        "\n",
        "Answer for both nearest neighbour and random classifier. You can note down the values for your experiments and plot a graph using  <a href=https://matplotlib.org/stable/gallery/lines_bars_and_markers/step_demo.html#sphx-glr-gallery-lines-bars-and-markers-step-demo-py>plt.plot<href>. Check also for extreme values for splits, like 99.9% or 0.1%"
      ]
    },
    {
      "cell_type": "markdown",
      "source": [
        "**How is the accuracy of the validation set affected if we increase the percentage of validation set? What happens when we reduce it?**\n",
        "Increasing the Percentage of Validation Set:\n",
        "\n",
        "Pros:\n",
        "\n",
        "A larger validation set can provide a more reliable estimate of the model's performance because it evaluates the model on a larger and more representative sample of the data.\n",
        "It helps reduce the risk of overfitting because the model has fewer training samples to fit the training data, making it less likely to memorize noise in the data.\n",
        "Cons:\n",
        "\n",
        "With a larger validation set, you have fewer samples available for training the model. This can lead to slower training times and potentially underfitting, where the model fails to capture the underlying patterns in the data due to limited training data.\n",
        "It may not be suitable for cases where data is limited, as you need to strike a balance between having enough data for training and enough for validation.\n",
        "Effect on Accuracy:\n",
        "\n",
        "Initially, as you increase the validation set percentage, validation accuracy tends to be more reliable and may increase. However, beyond a certain point, further increases in the validation set percentage can lead to a decrease in training set size and may result in reduced training performance.\n",
        "Reducing the Percentage of Validation Set:\n",
        "\n",
        "Pros:\n",
        "\n",
        "With a smaller validation set, you have more data available for training the model. This can lead to faster training times and potentially better modeling of the underlying patterns in the data.\n",
        "Cons:\n",
        "\n",
        "A smaller validation set may lead to less reliable estimates of the model's performance because it evaluates the model on a smaller and potentially less representative sample of the data.\n",
        "There's a higher risk of overfitting because the model has more training data and may memorize noise in the training data.\n",
        "Effect on Accuracy:\n",
        "\n",
        "Initially, as you reduce the validation set percentage, training accuracy may improve due to having more data for training. However, validation accuracy may become less reliable and may decrease because of the reduced sample size for validation."
      ],
      "metadata": {
        "id": "go5anogzqAfs"
      }
    },
    {
      "cell_type": "markdown",
      "source": [
        "**How does the size of the train and validation set affect how well we can predict the accuracy on the test set using the validation set?**\n",
        "\n",
        "The size of the training and validation sets can indeed affect how well you can predict the accuracy on the test set using the validation set. Here's how:\n",
        "\n",
        "Larger Training Set:\n",
        "\n",
        "Pros:\n",
        "\n",
        "With a larger training set, your model has more data to learn from. This can help the model generalize better to the underlying patterns in the data, which can lead to improved predictive performance on both the validation and test sets.\n",
        "A model trained on a larger dataset is less likely to overfit because it has more representative examples to learn from.\n",
        "Cons:\n",
        "\n",
        "If the validation set is relatively small compared to the training set, it may not provide a reliable estimate of how well the model will perform on unseen data (i.e., the test set). The validation set may not capture the full diversity of data that the test set contains.\n",
        "Larger Validation Set:\n",
        "\n",
        "Pros:\n",
        "\n",
        "A larger validation set provides a more stable estimate of your model's performance. It reduces the variance in your performance estimates because you're evaluating the model on a more representative sample of the data.\n",
        "Cons:\n",
        "\n",
        "With a larger validation set, you have fewer data points available for training the model. This can potentially lead to slower training times and may limit the model's capacity to capture complex patterns in the data.\n",
        "Smaller Training Set:\n",
        "\n",
        "Pros:\n",
        "\n",
        "A smaller training set may allow you to train your model faster because you're using fewer data points. This can be advantageous in scenarios where training time is a critical factor.\n",
        "Cons:\n",
        "\n",
        "If the training set is too small, the model may not generalize well to the validation and test sets. It may overfit to the training data, leading to poor predictive performance on unseen data.\n",
        "Smaller Validation Set:\n",
        "\n",
        "Pros:\n",
        "\n",
        "With a smaller validation set, you have more data points available for training the model, which can be beneficial for model performance.\n",
        "Cons:\n",
        "\n",
        "A smaller validation set may provide less reliable estimates of model performance. The performance scores on the validation set may vary more due to the smaller sample size."
      ],
      "metadata": {
        "id": "TKzRB00srETx"
      }
    },
    {
      "cell_type": "markdown",
      "source": [
        "**What do you think is a good percentage to reserve for the validation set so that thest two factors are balanced?**\n",
        "Common Split Ratios:\n",
        "\n",
        "A common split ratio is to reserve 70-80% of your data for training and the remaining 20-30% for validation. This is often a good starting point for many datasets and machine learning tasks.\n",
        "Another common split is the 60-20-20 split, where you allocate 60% for training, 20% for validation, and 20% for testing.\n",
        "Small Datasets:\n",
        "\n",
        "If you have a small dataset (e.g., a few hundred samples), you might consider using a larger proportion for validation (e.g., 30% or more) to ensure that you have a sufficiently large validation set for reliable performance estimation.\n",
        "Large Datasets:\n",
        "\n",
        "With very large datasets (e.g., millions of samples), you can often afford to allocate a smaller percentage for validation (e.g., 10-20%) because you still have a substantial number of validation samples.\n",
        "Complex Models:\n",
        "\n",
        "If you're training a highly complex model with a large number of parameters (e.g., deep neural networks), it can be beneficial to have a larger validation set to get more reliable estimates of model performance. In such cases, you might lean toward the higher end of the validation set percentage range.\n",
        "Limited Data:\n",
        "\n",
        "When you have a very limited amount of data, consider techniques like k-fold cross-validation. In k-fold cross-validation, the data is divided into k subsets (folds), and the model is trained and validated k times, each time using a different fold as the validation set. This helps you make efficient use of your limited data.\n",
        "Domain Knowledge:\n",
        "\n",
        "Domain knowledge can also play a role in deciding the split ratio. If you have prior knowledge about the problem, the data, or the expected model performance, it can guide your choice."
      ],
      "metadata": {
        "id": "6LjJ6J0fsel2"
      }
    },
    {
      "cell_type": "markdown",
      "metadata": {
        "id": "PnYvkAZLQY7h"
      },
      "source": [
        "## Multiple Splits\n",
        "\n",
        "One way to get more accurate estimates for the test accuracy is by using <b>crossvalidation</b>. Here, we will try a simple version, where we do multiple train/val splits and take the average of validation accuracies as the test accuracy estimation. Here is a function for doing this. Note that this function will take a long time to execute."
      ]
    },
    {
      "cell_type": "code",
      "metadata": {
        "id": "E4nGCUQXBTzo"
      },
      "source": [
        "# you can use this function for random classifier also\n",
        "def AverageAccuracy(alldata, alllabel, splitpercent, iterations, classifier=NN):\n",
        "  accuracy = 0\n",
        "  for ii in range(iterations):\n",
        "    traindata, trainlabel, valdata, vallabel = split(alldata, alllabel, splitpercent)\n",
        "    valpred = classifier(traindata, trainlabel, valdata)\n",
        "    accuracy += Accuracy(vallabel, valpred)\n",
        "  return accuracy/iterations # average of all accuracies"
      ],
      "execution_count": 13,
      "outputs": []
    },
    {
      "cell_type": "code",
      "metadata": {
        "id": "H3qtNar7Bbik",
        "colab": {
          "base_uri": "https://localhost:8080/"
        },
        "outputId": "4e266da3-3854-4588-fd97-4a3dcbd5d219"
      },
      "source": [
        "print('Average validation accuracy is ', AverageAccuracy(alltraindata, alltrainlabel, 75/100, 10, classifier=NN))\n",
        "testpred = NN(alltraindata, alltrainlabel, testdata)\n",
        "print('test accuracy is ',Accuracy(testlabel, testpred) )"
      ],
      "execution_count": 14,
      "outputs": [
        {
          "output_type": "stream",
          "name": "stdout",
          "text": [
            "Average validation accuracy is  0.33584635395170215\n",
            "test accuracy is  0.34917953667953666\n"
          ]
        }
      ]
    },
    {
      "cell_type": "markdown",
      "metadata": {
        "id": "33GIn4x5VH-d"
      },
      "source": [
        "This is a very simple way of doing cross-validation. There are many well-known algorithms for cross-validation, like k-fold cross-validation, leave-one-out etc. This will be covered in detail in a later module. For more information about cross-validation, check <a href=https://en.wikipedia.org/wiki/Cross-validation_(statistics)>Cross-validatioin (Wikipedia)</a>\n",
        "\n",
        "### Questions\n",
        "1. Does averaging the validation accuracy across multiple splits give more consistent results?\n",
        "2. Does it give more accurate estimate of test accuracy?\n",
        "3. What is the effect of the number of iterations on the estimate? Do we get a better estimate with higher iterations?\n",
        "4. Consider the results you got for the previous questions. Can we deal with a very small train dataset or validation dataset by increasing the iterations?\n"
      ]
    },
    {
      "cell_type": "markdown",
      "source": [
        "**Does averaging the validation accuracy across multiple splits give more consistent results?**\n",
        "Reduced Variability: When you use a single fixed validation set, the choice of that particular subset of data can have a significant impact on the reported validation accuracy. By averaging the results across multiple splits, you reduce the influence of any one random split, leading to more stable and representative estimates of your model's performance.\n",
        "\n",
        "Better Generalization: Averaging validation accuracy across multiple splits allows your model to be evaluated on different subsets of the data during each iteration. This promotes better generalization, as the model learns to perform well on various portions of the dataset, which can be more indicative of its true performance on unseen data.\n",
        "\n",
        "Robustness: It makes your evaluation more robust to the initial random split. A single unfortunate split could lead to overly optimistic or pessimistic estimates of model performance, which can be misleading. Averaging over multiple splits smooths out this variability.\n",
        "\n",
        "More Information: With k-fold cross-validation, you obtain k different estimates of model performance. This not only gives you a more reliable measure of your model's performance but also provides insights into the variability of that performance."
      ],
      "metadata": {
        "id": "-OPy4tkwtz2H"
      }
    },
    {
      "cell_type": "markdown",
      "source": [
        "**Does it give more accurate estimate of test accuracy?**\n",
        "Reduced Bias: By using multiple validation sets and averaging their performance, you reduce the potential bias introduced by a single validation set. A single fixed validation set might accidentally contain data that is either easier or harder to classify, leading to an inaccurate estimate of your model's generalization performance. Averaging over multiple validation sets helps mitigate this bias.\n",
        "\n",
        "Better Generalization: Cross-validation or repeated sampling exposes your model to various subsets of the data during each iteration. This encourages your model to learn more robust and generalizable patterns from the data, as it has to perform well on different slices of the dataset. Consequently, the reported performance is more indicative of how your model is likely to perform on new, unseen data, such as the test set.\n",
        "\n",
        "Robustness: Averaging over multiple splits makes your performance evaluation more robust to outliers or anomalies that might be present in a single validation set. An unfortunate random split of data in a single validation set can lead to overly optimistic or pessimistic performance estimates, which can be misleading.\n",
        "\n",
        "While cross-validation and repeated random sampling can provide a more accurate estimate of your model's generalization performance, it's important to keep in mind that they are still estimates. The actual performance on the test set can still vary due to differences in the test data distribution, data collection issues, or other factors not present in your training and validation data."
      ],
      "metadata": {
        "id": "WG_wl3UBue6n"
      }
    },
    {
      "cell_type": "markdown",
      "source": [
        "**What is the effect of the number of iterations on the estimate? Do we get a better estimate with higher iterations?**\n",
        "Fewer Iterations:\n",
        "\n",
        "With a small number of iterations (e.g., 2 or 3), you may get a less stable estimate of model performance. The results can vary significantly depending on the specific data splits.\n",
        "There's a higher risk that the performance estimate might be overly optimistic or pessimistic due to the limited number of evaluations.\n",
        "Moderate Iterations:\n",
        "\n",
        "Increasing the number of iterations to a moderate level (e.g., 5 to 10) generally leads to more stable and reliable estimates of model performance.\n",
        "With more iterations, the variability in performance estimates is reduced, and you get a better sense of the model's average performance.\n",
        "Diminishing Returns:\n",
        "\n",
        "Beyond a certain point, increasing the number of iterations may not significantly improve the accuracy of the estimate. The law of diminishing returns applies, meaning that the incremental gain in estimate quality becomes smaller as you add more iterations.\n",
        "Moreover, a higher number of iterations requires more computational resources and time, which may not always be practical.\n",
        "Computational Cost:\n",
        "\n",
        "Keep in mind that each additional iteration adds computational cost. If you have limited computational resources or time constraints, you might need to strike a balance between the number of iterations and available resources."
      ],
      "metadata": {
        "id": "cpzCSdL-yWon"
      }
    },
    {
      "cell_type": "markdown",
      "source": [
        "**Consider the results you got for the previous questions. Can we deal with a very small train dataset or validation dataset by increasing the iterations?**\n",
        "Small Training Dataset:\n",
        "\n",
        "If you have a very small training dataset, increasing the number of iterations can be beneficial to some extent because it allows your model to be trained on different subsets of the limited training data during each iteration.\n",
        "However, a very small training dataset may still lead to issues like overfitting, where the model struggles to generalize to new data. More iterations can help in estimating how well the model might perform on different subsets of the data, but it can't magically generate more information from a small dataset.\n",
        "Small Validation Dataset:\n",
        "\n",
        "When you have a small validation dataset, increasing the number of iterations can provide more stable and reliable estimates of model performance compared to using a single small validation set. This reduces the risk of your performance estimate being overly influenced by a specific random split.\n",
        "While increasing iterations can improve the stability of the estimate, it doesn't change the fact that you have limited data available for model evaluation. The overall performance estimate may still be less precise than desired.\n",
        "Limitations:\n",
        "\n",
        "There are limitations to how much increasing the number of iterations can compensate for a very small dataset. If the dataset is extremely small, it may be challenging to obtain accurate and reliable estimates of model performance, no matter how many iterations you use.\n",
        "Additionally, computational resources and time constraints may limit your ability to use an extremely high number of iterations.\n",
        "In cases where you have a very small training dataset or validation dataset, it's important to be aware of the limitations and potential issues related to data scarcity. You should consider strategies to address this limitation, such as:\n",
        "\n",
        "Data Augmentation: If possible, apply data augmentation techniques to artificially increase the effective size of your training dataset.\n",
        "Transfer Learning: Explore the use of pre-trained models and transfer learning, which can leverage knowledge learned from larger datasets.\n",
        "Feature Engineering: Focus on feature engineering and domain knowledge to extract more information from the existing data.\n",
        "Collect More Data: If feasible, consider collecting additional data to increase the size of your dataset, which can lead to more robust model training and evaluation."
      ],
      "metadata": {
        "id": "IRA_w0JmyrxQ"
      }
    }
  ]
}